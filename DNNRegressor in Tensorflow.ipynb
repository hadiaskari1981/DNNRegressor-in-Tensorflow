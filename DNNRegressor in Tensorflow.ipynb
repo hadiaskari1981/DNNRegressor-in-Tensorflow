{
 "cells": [
  {
   "cell_type": "markdown",
   "metadata": {},
   "source": [
    "## DNNRegressor in Tensorflow"
   ]
  },
  {
   "cell_type": "code",
   "execution_count": 2,
   "metadata": {},
   "outputs": [],
   "source": [
    "import tensorflow as tf\n",
    "import numpy as np\n",
    "import pandas as pd"
   ]
  },
  {
   "cell_type": "markdown",
   "metadata": {},
   "source": [
    "### Preprocessing the CSV dataset of California Housing Price\n",
    "\n",
    "** 1- removing Nan in the dataset**\n",
    "\n",
    "** 2- dividing the 'median_house_value' by 100000**\n",
    "\n",
    "** 3- changing the type of data to float**\n"
   ]
  },
  {
   "cell_type": "code",
   "execution_count": 3,
   "metadata": {},
   "outputs": [],
   "source": [
    "housing_cal = pd.read_csv('./california-housing-prices/housing_numric.csv')\n",
    "housing_cal=housing_cal.dropna(axis=0)\n",
    "housing_cal.isnull().sum(axis=0)\n",
    "housing_cal.median_house_value=housing_cal.median_house_value/100000\n",
    "housing_cal.isnull().sum(axis=0)\n",
    "housing_cal=housing_cal.astype('float64')"
   ]
  },
  {
   "cell_type": "markdown",
   "metadata": {},
   "source": [
    "** spliting dataset to train and test**\n",
    "\n",
    "** spliting train and test to features and label **"
   ]
  },
  {
   "cell_type": "code",
   "execution_count": 4,
   "metadata": {},
   "outputs": [],
   "source": [
    "from sklearn.model_selection import train_test_split\n",
    "train, test = train_test_split(housing_cal, test_size=0.2)\n",
    "\n",
    "x_train, y_train = train, train.pop(\"median_house_value\")\n",
    "x_test, y_test = test, test.pop(\"median_house_value\")"
   ]
  },
  {
   "cell_type": "markdown",
   "metadata": {},
   "source": [
    "** Normalizing the features and then add the bias feature**"
   ]
  },
  {
   "cell_type": "code",
   "execution_count": 5,
   "metadata": {},
   "outputs": [],
   "source": [
    "feature_cols = [tf.feature_column.numeric_column(\"X\", shape=[1,9])]\n",
    "\n",
    "from sklearn.preprocessing import StandardScaler\n",
    "scaler = StandardScaler()\n",
    "x_train_scaled = scaler.fit_transform(x_train)\n",
    "x_test_scaled = scaler.fit_transform(x_test)\n",
    "m, n =x_train.shape\n",
    "m1, n1 = x_test.shape\n",
    "x_train_scaled_plus_bias = np.c_[np.ones((m, 1)), x_train_scaled]\n",
    "x_test_scaled_plus_bias = np.c_[np.ones((m1, 1)), x_test_scaled]\n",
    "y_train, y_test= y_train.to_numpy(), y_test.to_numpy()"
   ]
  },
  {
   "cell_type": "markdown",
   "metadata": {},
   "source": [
    "** Train the model using tf.estimator.DNNRegressor **\n",
    "\n",
    "** be noticed that we can change the loss_reduction to \"weighted_sum\" **"
   ]
  },
  {
   "cell_type": "code",
   "execution_count": 6,
   "metadata": {},
   "outputs": [
    {
     "name": "stdout",
     "output_type": "stream",
     "text": [
      "INFO:tensorflow:Using default config.\n",
      "WARNING:tensorflow:Using temporary folder as model directory: C:\\Users\\Hadi\\AppData\\Local\\Temp\\tmpvz7rmnvi\n",
      "INFO:tensorflow:Using config: {'_log_step_count_steps': 100, '_keep_checkpoint_every_n_hours': 10000, '_task_id': 0, '_save_summary_steps': 100, '_save_checkpoints_secs': 600, '_task_type': 'worker', '_num_worker_replicas': 1, '_evaluation_master': '', '_cluster_spec': <tensorflow.python.training.server_lib.ClusterSpec object at 0x000001EB7E6F7B00>, '_train_distribute': None, '_service': None, '_global_id_in_cluster': 0, '_num_ps_replicas': 0, '_keep_checkpoint_max': 5, '_device_fn': None, '_master': '', '_is_chief': True, '_session_config': None, '_tf_random_seed': None, '_model_dir': 'C:\\\\Users\\\\Hadi\\\\AppData\\\\Local\\\\Temp\\\\tmpvz7rmnvi', '_save_checkpoints_steps': None}\n",
      "INFO:tensorflow:Calling model_fn.\n",
      "INFO:tensorflow:Done calling model_fn.\n",
      "INFO:tensorflow:Create CheckpointSaverHook.\n",
      "INFO:tensorflow:Graph was finalized.\n",
      "INFO:tensorflow:Running local_init_op.\n",
      "INFO:tensorflow:Done running local_init_op.\n",
      "INFO:tensorflow:Saving checkpoints for 0 into C:\\Users\\Hadi\\AppData\\Local\\Temp\\tmpvz7rmnvi\\model.ckpt.\n",
      "INFO:tensorflow:loss = 5.136204, step = 0\n",
      "INFO:tensorflow:global_step/sec: 157.043\n",
      "INFO:tensorflow:loss = 0.3620121, step = 100 (0.639 sec)\n",
      "INFO:tensorflow:global_step/sec: 182.258\n",
      "INFO:tensorflow:loss = 0.3891534, step = 200 (0.549 sec)\n",
      "INFO:tensorflow:global_step/sec: 174.313\n",
      "INFO:tensorflow:loss = 0.428359, step = 300 (0.573 sec)\n",
      "INFO:tensorflow:global_step/sec: 171.924\n",
      "INFO:tensorflow:loss = 0.45043376, step = 400 (0.583 sec)\n",
      "INFO:tensorflow:global_step/sec: 174.926\n",
      "INFO:tensorflow:loss = 0.4257566, step = 500 (0.571 sec)\n",
      "INFO:tensorflow:global_step/sec: 181.92\n",
      "INFO:tensorflow:loss = 0.21878433, step = 600 (0.550 sec)\n",
      "INFO:tensorflow:global_step/sec: 182.92\n",
      "INFO:tensorflow:loss = 0.43379605, step = 700 (0.548 sec)\n",
      "INFO:tensorflow:global_step/sec: 177.411\n",
      "INFO:tensorflow:loss = 0.36202526, step = 800 (0.564 sec)\n",
      "INFO:tensorflow:global_step/sec: 180.931\n",
      "INFO:tensorflow:loss = 0.23722717, step = 900 (0.552 sec)\n",
      "INFO:tensorflow:global_step/sec: 182.924\n",
      "INFO:tensorflow:loss = 0.32248425, step = 1000 (0.547 sec)\n",
      "INFO:tensorflow:global_step/sec: 184.953\n",
      "INFO:tensorflow:loss = 0.36690158, step = 1100 (0.541 sec)\n",
      "INFO:tensorflow:global_step/sec: 184.606\n",
      "INFO:tensorflow:loss = 0.26094344, step = 1200 (0.567 sec)\n",
      "INFO:tensorflow:global_step/sec: 173.682\n",
      "INFO:tensorflow:loss = 0.22842596, step = 1300 (0.550 sec)\n",
      "INFO:tensorflow:global_step/sec: 183.59\n",
      "INFO:tensorflow:loss = 0.26557627, step = 1400 (0.545 sec)\n",
      "INFO:tensorflow:global_step/sec: 183.933\n",
      "INFO:tensorflow:loss = 0.37946972, step = 1500 (0.545 sec)\n",
      "INFO:tensorflow:global_step/sec: 183.592\n",
      "INFO:tensorflow:loss = 0.29708627, step = 1600 (0.545 sec)\n",
      "INFO:tensorflow:global_step/sec: 180.283\n",
      "INFO:tensorflow:loss = 0.21710353, step = 1700 (0.555 sec)\n",
      "INFO:tensorflow:global_step/sec: 181.594\n",
      "INFO:tensorflow:loss = 0.31255406, step = 1800 (0.551 sec)\n",
      "INFO:tensorflow:global_step/sec: 171.328\n",
      "INFO:tensorflow:loss = 0.22873825, step = 1900 (0.583 sec)\n",
      "INFO:tensorflow:global_step/sec: 185.981\n",
      "INFO:tensorflow:loss = 0.311563, step = 2000 (0.538 sec)\n",
      "INFO:tensorflow:global_step/sec: 181.596\n",
      "INFO:tensorflow:loss = 0.26306075, step = 2100 (0.551 sec)\n",
      "INFO:tensorflow:global_step/sec: 182.587\n",
      "INFO:tensorflow:loss = 0.19942373, step = 2200 (0.548 sec)\n",
      "INFO:tensorflow:global_step/sec: 173.711\n",
      "INFO:tensorflow:loss = 0.26659545, step = 2300 (0.576 sec)\n",
      "INFO:tensorflow:global_step/sec: 176.469\n",
      "INFO:tensorflow:loss = 0.3714341, step = 2400 (0.568 sec)\n",
      "INFO:tensorflow:global_step/sec: 186.679\n",
      "INFO:tensorflow:loss = 0.3674842, step = 2500 (0.535 sec)\n",
      "INFO:tensorflow:global_step/sec: 185.981\n",
      "INFO:tensorflow:loss = 0.25715268, step = 2600 (0.538 sec)\n",
      "INFO:tensorflow:global_step/sec: 183.256\n",
      "INFO:tensorflow:loss = 0.2395551, step = 2700 (0.546 sec)\n",
      "INFO:tensorflow:global_step/sec: 186.621\n",
      "INFO:tensorflow:loss = 0.2911807, step = 2800 (0.535 sec)\n",
      "INFO:tensorflow:global_step/sec: 186.516\n",
      "INFO:tensorflow:loss = 0.2424506, step = 2900 (0.536 sec)\n",
      "INFO:tensorflow:global_step/sec: 185.509\n",
      "INFO:tensorflow:loss = 0.41550362, step = 3000 (0.540 sec)\n",
      "INFO:tensorflow:global_step/sec: 187.235\n",
      "INFO:tensorflow:loss = 0.207161, step = 3100 (0.534 sec)\n",
      "INFO:tensorflow:global_step/sec: 184.986\n",
      "INFO:tensorflow:loss = 0.23320432, step = 3200 (0.540 sec)\n",
      "INFO:tensorflow:global_step/sec: 187.217\n",
      "INFO:tensorflow:loss = 0.3599884, step = 3300 (0.535 sec)\n",
      "INFO:tensorflow:global_step/sec: 184.608\n",
      "INFO:tensorflow:loss = 0.27535087, step = 3400 (0.541 sec)\n",
      "INFO:tensorflow:global_step/sec: 186.676\n",
      "INFO:tensorflow:loss = 0.24265282, step = 3500 (0.536 sec)\n",
      "INFO:tensorflow:global_step/sec: 183.542\n",
      "INFO:tensorflow:loss = 0.18371181, step = 3600 (0.545 sec)\n",
      "INFO:tensorflow:global_step/sec: 179.314\n",
      "INFO:tensorflow:loss = 0.33727506, step = 3700 (0.558 sec)\n",
      "INFO:tensorflow:global_step/sec: 179.301\n",
      "INFO:tensorflow:loss = 0.1998827, step = 3800 (0.558 sec)\n",
      "INFO:tensorflow:global_step/sec: 184.892\n",
      "INFO:tensorflow:loss = 0.27492383, step = 3900 (0.541 sec)\n",
      "INFO:tensorflow:global_step/sec: 187.02\n",
      "INFO:tensorflow:loss = 0.30917084, step = 4000 (0.535 sec)\n",
      "INFO:tensorflow:global_step/sec: 184.647\n",
      "INFO:tensorflow:loss = 0.23682362, step = 4100 (0.542 sec)\n",
      "INFO:tensorflow:global_step/sec: 188.304\n",
      "INFO:tensorflow:loss = 0.39480546, step = 4200 (0.532 sec)\n",
      "INFO:tensorflow:global_step/sec: 184.268\n",
      "INFO:tensorflow:loss = 0.17073102, step = 4300 (0.541 sec)\n",
      "INFO:tensorflow:global_step/sec: 187.933\n",
      "INFO:tensorflow:loss = 0.20398575, step = 4400 (0.532 sec)\n",
      "INFO:tensorflow:global_step/sec: 184.268\n",
      "INFO:tensorflow:loss = 0.24137321, step = 4500 (0.543 sec)\n",
      "INFO:tensorflow:global_step/sec: 183.597\n",
      "INFO:tensorflow:loss = 0.21802521, step = 4600 (0.545 sec)\n",
      "INFO:tensorflow:global_step/sec: 180.284\n",
      "INFO:tensorflow:loss = 0.12988812, step = 4700 (0.555 sec)\n",
      "INFO:tensorflow:global_step/sec: 184.269\n",
      "INFO:tensorflow:loss = 0.18025179, step = 4800 (0.543 sec)\n",
      "INFO:tensorflow:global_step/sec: 175.535\n",
      "INFO:tensorflow:loss = 0.23242682, step = 4900 (0.571 sec)\n",
      "INFO:tensorflow:global_step/sec: 182.314\n",
      "INFO:tensorflow:loss = 0.20660551, step = 5000 (0.549 sec)\n",
      "INFO:tensorflow:global_step/sec: 171.045\n",
      "INFO:tensorflow:loss = 0.12523851, step = 5100 (0.584 sec)\n",
      "INFO:tensorflow:global_step/sec: 178.039\n",
      "INFO:tensorflow:loss = 0.15253846, step = 5200 (0.563 sec)\n",
      "INFO:tensorflow:global_step/sec: 160.864\n",
      "INFO:tensorflow:loss = 0.30026975, step = 5300 (0.622 sec)\n",
      "INFO:tensorflow:global_step/sec: 181.921\n",
      "INFO:tensorflow:loss = 0.25095004, step = 5400 (0.549 sec)\n",
      "INFO:tensorflow:global_step/sec: 184.607\n",
      "INFO:tensorflow:loss = 0.14819956, step = 5500 (0.542 sec)\n",
      "INFO:tensorflow:global_step/sec: 162.456\n",
      "INFO:tensorflow:loss = 0.24842234, step = 5600 (0.616 sec)\n",
      "INFO:tensorflow:global_step/sec: 181.911\n",
      "INFO:tensorflow:loss = 0.1833094, step = 5700 (0.551 sec)\n",
      "INFO:tensorflow:global_step/sec: 186.872\n",
      "INFO:tensorflow:loss = 0.14951332, step = 5800 (0.534 sec)\n",
      "INFO:tensorflow:global_step/sec: 186.276\n",
      "INFO:tensorflow:loss = 0.13164076, step = 5900 (0.538 sec)\n",
      "INFO:tensorflow:global_step/sec: 184.603\n",
      "INFO:tensorflow:loss = 0.21897492, step = 6000 (0.542 sec)\n",
      "INFO:tensorflow:global_step/sec: 185.292\n",
      "INFO:tensorflow:loss = 0.36167565, step = 6100 (0.539 sec)\n",
      "INFO:tensorflow:global_step/sec: 186.331\n",
      "INFO:tensorflow:loss = 0.17556559, step = 6200 (0.537 sec)\n",
      "INFO:tensorflow:global_step/sec: 187.725\n",
      "INFO:tensorflow:loss = 0.21787727, step = 6300 (0.534 sec)\n",
      "INFO:tensorflow:global_step/sec: 184.95\n",
      "INFO:tensorflow:loss = 0.29804295, step = 6400 (0.540 sec)\n",
      "INFO:tensorflow:global_step/sec: 182.346\n",
      "INFO:tensorflow:loss = 0.11512773, step = 6500 (0.548 sec)\n",
      "INFO:tensorflow:global_step/sec: 185.911\n",
      "INFO:tensorflow:loss = 0.13289815, step = 6600 (0.538 sec)\n",
      "INFO:tensorflow:global_step/sec: 185.985\n",
      "INFO:tensorflow:loss = 0.20708483, step = 6700 (0.538 sec)\n",
      "INFO:tensorflow:global_step/sec: 187.024\n",
      "INFO:tensorflow:loss = 0.2836377, step = 6800 (0.535 sec)\n",
      "INFO:tensorflow:global_step/sec: 187.024\n",
      "INFO:tensorflow:loss = 0.13902028, step = 6900 (0.535 sec)\n",
      "INFO:tensorflow:global_step/sec: 187.023\n",
      "INFO:tensorflow:loss = 0.20257337, step = 7000 (0.535 sec)\n",
      "INFO:tensorflow:global_step/sec: 187.314\n"
     ]
    },
    {
     "name": "stdout",
     "output_type": "stream",
     "text": [
      "INFO:tensorflow:loss = 0.1763209, step = 7100 (0.532 sec)\n",
      "INFO:tensorflow:global_step/sec: 187.721\n",
      "INFO:tensorflow:loss = 0.23485, step = 7200 (0.538 sec)\n",
      "INFO:tensorflow:global_step/sec: 185.03\n",
      "INFO:tensorflow:loss = 0.20769615, step = 7300 (0.535 sec)\n",
      "INFO:tensorflow:global_step/sec: 186.317\n",
      "INFO:tensorflow:loss = 0.25636628, step = 7400 (0.547 sec)\n",
      "INFO:tensorflow:global_step/sec: 181.167\n",
      "INFO:tensorflow:loss = 0.20187494, step = 7500 (0.544 sec)\n",
      "INFO:tensorflow:global_step/sec: 177.705\n",
      "INFO:tensorflow:loss = 0.11716386, step = 7600 (0.563 sec)\n",
      "INFO:tensorflow:global_step/sec: 181.265\n",
      "INFO:tensorflow:loss = 0.21758571, step = 7700 (0.553 sec)\n",
      "INFO:tensorflow:global_step/sec: 185.984\n",
      "INFO:tensorflow:loss = 0.21720701, step = 7800 (0.537 sec)\n",
      "INFO:tensorflow:global_step/sec: 186.322\n",
      "INFO:tensorflow:loss = 0.24957506, step = 7900 (0.537 sec)\n",
      "INFO:tensorflow:global_step/sec: 185.986\n",
      "INFO:tensorflow:loss = 0.25143585, step = 8000 (0.538 sec)\n",
      "INFO:tensorflow:global_step/sec: 186.324\n",
      "INFO:tensorflow:loss = 0.25237048, step = 8100 (0.537 sec)\n",
      "INFO:tensorflow:global_step/sec: 184.953\n",
      "INFO:tensorflow:loss = 0.2604258, step = 8200 (0.541 sec)\n",
      "INFO:tensorflow:global_step/sec: 184.264\n",
      "INFO:tensorflow:loss = 0.33568412, step = 8300 (0.543 sec)\n",
      "INFO:tensorflow:global_step/sec: 170.17\n",
      "INFO:tensorflow:loss = 0.13833535, step = 8400 (0.592 sec)\n",
      "INFO:tensorflow:global_step/sec: 181.259\n",
      "INFO:tensorflow:loss = 0.20396064, step = 8500 (0.548 sec)\n",
      "INFO:tensorflow:global_step/sec: 184.61\n",
      "INFO:tensorflow:loss = 0.223205, step = 8600 (0.542 sec)\n",
      "INFO:tensorflow:global_step/sec: 184.948\n",
      "INFO:tensorflow:loss = 0.16261113, step = 8700 (0.542 sec)\n",
      "INFO:tensorflow:global_step/sec: 186.68\n",
      "INFO:tensorflow:loss = 0.14845918, step = 8800 (0.535 sec)\n",
      "INFO:tensorflow:global_step/sec: 184.605\n",
      "INFO:tensorflow:loss = 0.1357218, step = 8900 (0.542 sec)\n",
      "INFO:tensorflow:global_step/sec: 187.729\n",
      "INFO:tensorflow:loss = 0.24776621, step = 9000 (0.533 sec)\n",
      "INFO:tensorflow:global_step/sec: 185.032\n",
      "INFO:tensorflow:loss = 0.21604481, step = 9100 (0.540 sec)\n",
      "INFO:tensorflow:global_step/sec: 185.982\n",
      "INFO:tensorflow:loss = 0.27918923, step = 9200 (0.538 sec)\n",
      "INFO:tensorflow:global_step/sec: 184.607\n",
      "INFO:tensorflow:loss = 0.23149616, step = 9300 (0.543 sec)\n",
      "INFO:tensorflow:global_step/sec: 185.051\n",
      "INFO:tensorflow:loss = 0.21910061, step = 9400 (0.537 sec)\n",
      "INFO:tensorflow:global_step/sec: 184.021\n",
      "INFO:tensorflow:loss = 0.24724843, step = 9500 (0.546 sec)\n",
      "INFO:tensorflow:global_step/sec: 188.116\n",
      "INFO:tensorflow:loss = 0.15992898, step = 9600 (0.531 sec)\n",
      "INFO:tensorflow:global_step/sec: 186.938\n",
      "INFO:tensorflow:loss = 0.13400352, step = 9700 (0.535 sec)\n",
      "INFO:tensorflow:global_step/sec: 185.95\n",
      "INFO:tensorflow:loss = 0.17284256, step = 9800 (0.538 sec)\n",
      "INFO:tensorflow:global_step/sec: 185.278\n",
      "INFO:tensorflow:loss = 0.30682796, step = 9900 (0.539 sec)\n",
      "INFO:tensorflow:global_step/sec: 185.784\n",
      "INFO:tensorflow:loss = 0.18026902, step = 10000 (0.539 sec)\n",
      "INFO:tensorflow:global_step/sec: 186.159\n",
      "INFO:tensorflow:loss = 0.21055403, step = 10100 (0.538 sec)\n",
      "INFO:tensorflow:global_step/sec: 184.057\n",
      "INFO:tensorflow:loss = 0.10904128, step = 10200 (0.542 sec)\n",
      "INFO:tensorflow:global_step/sec: 182.52\n",
      "INFO:tensorflow:loss = 0.18923126, step = 10300 (0.548 sec)\n",
      "INFO:tensorflow:global_step/sec: 186.833\n",
      "INFO:tensorflow:loss = 0.1702584, step = 10400 (0.535 sec)\n",
      "INFO:tensorflow:global_step/sec: 187.345\n",
      "INFO:tensorflow:loss = 0.26884514, step = 10500 (0.535 sec)\n",
      "INFO:tensorflow:global_step/sec: 184.473\n",
      "INFO:tensorflow:loss = 0.2111768, step = 10600 (0.542 sec)\n",
      "INFO:tensorflow:global_step/sec: 185.541\n",
      "INFO:tensorflow:loss = 0.18533021, step = 10700 (0.538 sec)\n",
      "INFO:tensorflow:global_step/sec: 184.738\n",
      "INFO:tensorflow:loss = 0.15942504, step = 10800 (0.542 sec)\n",
      "INFO:tensorflow:global_step/sec: 186.672\n",
      "INFO:tensorflow:loss = 0.17355217, step = 10900 (0.535 sec)\n",
      "INFO:tensorflow:global_step/sec: 184.838\n",
      "INFO:tensorflow:loss = 0.16427362, step = 11000 (0.541 sec)\n",
      "INFO:tensorflow:global_step/sec: 185.908\n",
      "INFO:tensorflow:loss = 0.17536332, step = 11100 (0.539 sec)\n",
      "INFO:tensorflow:global_step/sec: 184.568\n",
      "INFO:tensorflow:loss = 0.23300758, step = 11200 (0.541 sec)\n",
      "INFO:tensorflow:global_step/sec: 186.932\n",
      "INFO:tensorflow:loss = 0.37868148, step = 11300 (0.535 sec)\n",
      "INFO:tensorflow:global_step/sec: 170.105\n",
      "INFO:tensorflow:loss = 0.08047428, step = 11400 (0.588 sec)\n",
      "INFO:tensorflow:global_step/sec: 187.292\n",
      "INFO:tensorflow:loss = 0.22803901, step = 11500 (0.534 sec)\n",
      "INFO:tensorflow:global_step/sec: 187.13\n",
      "INFO:tensorflow:loss = 0.17017338, step = 11600 (0.534 sec)\n",
      "INFO:tensorflow:global_step/sec: 186.914\n",
      "INFO:tensorflow:loss = 0.15208644, step = 11700 (0.535 sec)\n",
      "INFO:tensorflow:global_step/sec: 185.976\n",
      "INFO:tensorflow:loss = 0.20734748, step = 11800 (0.538 sec)\n",
      "INFO:tensorflow:global_step/sec: 184.597\n",
      "INFO:tensorflow:loss = 0.19493073, step = 11900 (0.542 sec)\n",
      "INFO:tensorflow:global_step/sec: 182.926\n",
      "INFO:tensorflow:loss = 0.14510758, step = 12000 (0.547 sec)\n",
      "INFO:tensorflow:global_step/sec: 182.587\n",
      "INFO:tensorflow:loss = 0.2490034, step = 12100 (0.548 sec)\n",
      "INFO:tensorflow:global_step/sec: 182.581\n",
      "INFO:tensorflow:loss = 0.1983578, step = 12200 (0.548 sec)\n",
      "INFO:tensorflow:global_step/sec: 185.416\n",
      "INFO:tensorflow:loss = 0.23034115, step = 12300 (0.539 sec)\n",
      "INFO:tensorflow:global_step/sec: 188.078\n",
      "INFO:tensorflow:loss = 0.24716221, step = 12400 (0.532 sec)\n",
      "INFO:tensorflow:global_step/sec: 187.019\n",
      "INFO:tensorflow:loss = 0.27466583, step = 12500 (0.535 sec)\n",
      "INFO:tensorflow:global_step/sec: 186.329\n",
      "INFO:tensorflow:loss = 0.19859429, step = 12600 (0.537 sec)\n",
      "INFO:tensorflow:global_step/sec: 186.605\n",
      "INFO:tensorflow:loss = 0.17270653, step = 12700 (0.536 sec)\n",
      "INFO:tensorflow:global_step/sec: 184.525\n",
      "INFO:tensorflow:loss = 0.13446327, step = 12800 (0.542 sec)\n",
      "INFO:tensorflow:global_step/sec: 180.006\n",
      "INFO:tensorflow:loss = 0.18228298, step = 12900 (0.556 sec)\n",
      "INFO:tensorflow:global_step/sec: 184.268\n",
      "INFO:tensorflow:loss = 0.2522104, step = 13000 (0.543 sec)\n",
      "INFO:tensorflow:global_step/sec: 179.315\n",
      "INFO:tensorflow:loss = 0.1948854, step = 13100 (0.558 sec)\n",
      "INFO:tensorflow:global_step/sec: 179.637\n",
      "INFO:tensorflow:loss = 0.14718653, step = 13200 (0.557 sec)\n",
      "INFO:tensorflow:global_step/sec: 188.078\n",
      "INFO:tensorflow:loss = 0.17391068, step = 13300 (0.533 sec)\n",
      "INFO:tensorflow:global_step/sec: 187.371\n",
      "INFO:tensorflow:loss = 0.2165332, step = 13400 (0.533 sec)\n",
      "INFO:tensorflow:global_step/sec: 186.678\n",
      "INFO:tensorflow:loss = 0.15986747, step = 13500 (0.536 sec)\n",
      "INFO:tensorflow:global_step/sec: 186.328\n",
      "INFO:tensorflow:loss = 0.24268128, step = 13600 (0.538 sec)\n",
      "INFO:tensorflow:global_step/sec: 186.324\n",
      "INFO:tensorflow:loss = 0.15312038, step = 13700 (0.536 sec)\n",
      "INFO:tensorflow:global_step/sec: 185.295\n",
      "INFO:tensorflow:loss = 0.13376838, step = 13800 (0.539 sec)\n",
      "INFO:tensorflow:global_step/sec: 187.371\n",
      "INFO:tensorflow:loss = 0.12514906, step = 13900 (0.536 sec)\n",
      "INFO:tensorflow:global_step/sec: 184.612\n",
      "INFO:tensorflow:loss = 0.14348122, step = 14000 (0.541 sec)\n",
      "INFO:tensorflow:global_step/sec: 183.925\n",
      "INFO:tensorflow:loss = 0.15339246, step = 14100 (0.544 sec)\n",
      "INFO:tensorflow:global_step/sec: 187.024\n",
      "INFO:tensorflow:loss = 0.18414131, step = 14200 (0.535 sec)\n",
      "INFO:tensorflow:global_step/sec: 187.379\n",
      "INFO:tensorflow:loss = 0.15956713, step = 14300 (0.533 sec)\n",
      "INFO:tensorflow:global_step/sec: 187.38\n",
      "INFO:tensorflow:loss = 0.21107498, step = 14400 (0.534 sec)\n",
      "INFO:tensorflow:global_step/sec: 185.966\n",
      "INFO:tensorflow:loss = 0.29200712, step = 14500 (0.538 sec)\n",
      "INFO:tensorflow:global_step/sec: 186.328\n",
      "INFO:tensorflow:loss = 0.22631773, step = 14600 (0.537 sec)\n",
      "INFO:tensorflow:global_step/sec: 186.67\n",
      "INFO:tensorflow:loss = 0.23348987, step = 14700 (0.537 sec)\n",
      "INFO:tensorflow:global_step/sec: 184.613\n",
      "INFO:tensorflow:loss = 0.18176322, step = 14800 (0.541 sec)\n",
      "INFO:tensorflow:global_step/sec: 187.024\n",
      "INFO:tensorflow:loss = 0.17890553, step = 14900 (0.535 sec)\n",
      "INFO:tensorflow:global_step/sec: 184.947\n",
      "INFO:tensorflow:loss = 0.100024246, step = 15000 (0.541 sec)\n",
      "INFO:tensorflow:global_step/sec: 182.924\n",
      "INFO:tensorflow:loss = 0.17210776, step = 15100 (0.547 sec)\n",
      "INFO:tensorflow:global_step/sec: 184.949\n",
      "INFO:tensorflow:loss = 0.14876527, step = 15200 (0.541 sec)\n",
      "INFO:tensorflow:global_step/sec: 186.328\n"
     ]
    },
    {
     "name": "stdout",
     "output_type": "stream",
     "text": [
      "INFO:tensorflow:loss = 0.13056375, step = 15300 (0.537 sec)\n",
      "INFO:tensorflow:global_step/sec: 187.375\n",
      "INFO:tensorflow:loss = 0.13594867, step = 15400 (0.534 sec)\n",
      "INFO:tensorflow:global_step/sec: 187.367\n",
      "INFO:tensorflow:loss = 0.21465617, step = 15500 (0.535 sec)\n",
      "INFO:tensorflow:global_step/sec: 186.327\n",
      "INFO:tensorflow:loss = 0.18106453, step = 15600 (0.536 sec)\n",
      "INFO:tensorflow:global_step/sec: 187.375\n",
      "INFO:tensorflow:loss = 0.17830755, step = 15700 (0.534 sec)\n",
      "INFO:tensorflow:global_step/sec: 188.08\n",
      "INFO:tensorflow:loss = 0.20222233, step = 15800 (0.532 sec)\n",
      "INFO:tensorflow:global_step/sec: 187.729\n",
      "INFO:tensorflow:loss = 0.21546227, step = 15900 (0.534 sec)\n",
      "INFO:tensorflow:global_step/sec: 183.589\n",
      "INFO:tensorflow:loss = 0.22811432, step = 16000 (0.544 sec)\n",
      "INFO:tensorflow:global_step/sec: 185.635\n",
      "INFO:tensorflow:loss = 0.13687977, step = 16100 (0.539 sec)\n",
      "INFO:tensorflow:global_step/sec: 186.68\n",
      "INFO:tensorflow:loss = 0.25847006, step = 16200 (0.536 sec)\n",
      "INFO:tensorflow:global_step/sec: 185.288\n",
      "INFO:tensorflow:loss = 0.07971296, step = 16300 (0.540 sec)\n",
      "INFO:tensorflow:Saving checkpoints for 16346 into C:\\Users\\Hadi\\AppData\\Local\\Temp\\tmpvz7rmnvi\\model.ckpt.\n",
      "INFO:tensorflow:Loss for final step: 0.19199322.\n"
     ]
    },
    {
     "data": {
      "text/plain": [
       "<tensorflow.python.estimator.canned.dnn.DNNRegressor at 0x1eb7e70cf98>"
      ]
     },
     "execution_count": 6,
     "metadata": {},
     "output_type": "execute_result"
    }
   ],
   "source": [
    "dnn_reg = tf.estimator.DNNRegressor(hidden_units=[1024,512,256], feature_columns=feature_cols, \n",
    "                                    loss_reduction='weighted_mean')\n",
    "\n",
    "input_fn = tf.estimator.inputs.numpy_input_fn(\n",
    "    x={\"X\": x_train_scaled_plus_bias}, y=y_train, num_epochs=100, batch_size=100, shuffle=True )\n",
    "dnn_reg.train(input_fn=input_fn)"
   ]
  },
  {
   "cell_type": "markdown",
   "metadata": {},
   "source": [
    "** evaluate the model on test **"
   ]
  },
  {
   "cell_type": "code",
   "execution_count": 7,
   "metadata": {},
   "outputs": [
    {
     "name": "stdout",
     "output_type": "stream",
     "text": [
      "INFO:tensorflow:Calling model_fn.\n",
      "INFO:tensorflow:Done calling model_fn.\n",
      "INFO:tensorflow:Starting evaluation at 2019-02-12-16:01:08\n",
      "INFO:tensorflow:Graph was finalized.\n",
      "INFO:tensorflow:Restoring parameters from C:\\Users\\Hadi\\AppData\\Local\\Temp\\tmpvz7rmnvi\\model.ckpt-16346\n",
      "INFO:tensorflow:Running local_init_op.\n",
      "INFO:tensorflow:Done running local_init_op.\n",
      "INFO:tensorflow:Finished evaluation at 2019-02-12-16:01:08\n",
      "INFO:tensorflow:Saving dict for global step 16346: average_loss = 0.27159083, global_step = 16346, label/mean = 2.074293, loss = 0.27139607, prediction/mean = 2.0778255\n",
      "INFO:tensorflow:Saving 'checkpoint_path' summary for global step 16346: C:\\Users\\Hadi\\AppData\\Local\\Temp\\tmpvz7rmnvi\\model.ckpt-16346\n"
     ]
    }
   ],
   "source": [
    "test_input_fn = tf.estimator.inputs.numpy_input_fn(\n",
    "    x={\"X\": x_test_scaled_plus_bias}, y=y_test, shuffle=False)\n",
    "eval_results = dnn_reg.evaluate(input_fn=test_input_fn)"
   ]
  },
  {
   "cell_type": "code",
   "execution_count": 8,
   "metadata": {},
   "outputs": [
    {
     "data": {
      "text/plain": [
       "{'average_loss': 0.27159083,\n",
       " 'global_step': 16346,\n",
       " 'label/mean': 2.074293,\n",
       " 'loss': 0.27139607,\n",
       " 'prediction/mean': 2.0778255}"
      ]
     },
     "execution_count": 8,
     "metadata": {},
     "output_type": "execute_result"
    }
   ],
   "source": [
    "eval_results"
   ]
  },
  {
   "cell_type": "markdown",
   "metadata": {},
   "source": [
    "** prediction **"
   ]
  },
  {
   "cell_type": "code",
   "execution_count": 9,
   "metadata": {},
   "outputs": [
    {
     "name": "stdout",
     "output_type": "stream",
     "text": [
      "INFO:tensorflow:Calling model_fn.\n",
      "INFO:tensorflow:Done calling model_fn.\n",
      "INFO:tensorflow:Graph was finalized.\n",
      "INFO:tensorflow:Restoring parameters from C:\\Users\\Hadi\\AppData\\Local\\Temp\\tmpvz7rmnvi\\model.ckpt-16346\n",
      "INFO:tensorflow:Running local_init_op.\n",
      "INFO:tensorflow:Done running local_init_op.\n"
     ]
    }
   ],
   "source": [
    "y_pred_iter = dnn_reg.predict(input_fn=test_input_fn)\n",
    "y_pred = list(y_pred_iter)"
   ]
  },
  {
   "cell_type": "code",
   "execution_count": 10,
   "metadata": {},
   "outputs": [
    {
     "data": {
      "text/plain": [
       "[{'predictions': array([0.7354896], dtype=float32)},\n",
       " {'predictions': array([5.091832], dtype=float32)},\n",
       " {'predictions': array([2.088366], dtype=float32)},\n",
       " {'predictions': array([2.7797906], dtype=float32)},\n",
       " {'predictions': array([0.8644673], dtype=float32)},\n",
       " {'predictions': array([0.68462485], dtype=float32)},\n",
       " {'predictions': array([4.814675], dtype=float32)},\n",
       " {'predictions': array([2.0113223], dtype=float32)},\n",
       " {'predictions': array([1.1041027], dtype=float32)},\n",
       " {'predictions': array([2.3091977], dtype=float32)}]"
      ]
     },
     "execution_count": 10,
     "metadata": {},
     "output_type": "execute_result"
    }
   ],
   "source": [
    "y_pred[0:10]"
   ]
  },
  {
   "cell_type": "code",
   "execution_count": 11,
   "metadata": {},
   "outputs": [
    {
     "data": {
      "text/plain": [
       "array([0.571  , 3.944  , 2.705  , 2.728  , 0.819  , 0.615  , 5.00001,\n",
       "       2.226  , 0.98   , 1.901  ])"
      ]
     },
     "execution_count": 11,
     "metadata": {},
     "output_type": "execute_result"
    }
   ],
   "source": [
    "y_test[0:10]"
   ]
  },
  {
   "cell_type": "markdown",
   "metadata": {},
   "source": [
    "### The End"
   ]
  }
 ],
 "metadata": {
  "kernelspec": {
   "display_name": "Python 3",
   "language": "python",
   "name": "python3"
  },
  "language_info": {
   "codemirror_mode": {
    "name": "ipython",
    "version": 3
   },
   "file_extension": ".py",
   "mimetype": "text/x-python",
   "name": "python",
   "nbconvert_exporter": "python",
   "pygments_lexer": "ipython3",
   "version": "3.5.5"
  }
 },
 "nbformat": 4,
 "nbformat_minor": 2
}
